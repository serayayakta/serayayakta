{
 "cells": [
  {
   "cell_type": "markdown",
   "metadata": {},
   "source": [
    "# Group Project of CS 210 Step:2"
   ]
  },
  {
   "cell_type": "markdown",
   "metadata": {},
   "source": [
    "Seray Ayakta - 24219"
   ]
  },
  {
   "cell_type": "markdown",
   "metadata": {},
   "source": [
    "Emin Kağan Öztemel - 23530"
   ]
  },
  {
   "cell_type": "markdown",
   "metadata": {},
   "source": [
    "Recep Yerebakan - 23699"
   ]
  },
  {
   "cell_type": "code",
   "execution_count": 4,
   "metadata": {},
   "outputs": [
    {
     "name": "stderr",
     "output_type": "stream",
     "text": [
      "C:\\ProgramData\\Anaconda3\\lib\\site-packages\\IPython\\core\\interactiveshell.py:3020: DtypeWarning: Columns (3) have mixed types. Specify dtype option on import or set low_memory=False.\n",
      "  interactivity=interactivity, compiler=compiler, result=result)\n"
     ]
    }
   ],
   "source": [
    "import pandas as pd\n",
    "import numpy as np\n",
    "import matplotlib.pyplot as plt\n",
    "import seaborn as sns \n",
    "from scipy import stats\n",
    "from datetime import datetime\n",
    "\n",
    "sns.set_style(\"darkgrid\")\n",
    "\n",
    "from os.path import join\n",
    "from pprint import pprint\n",
    "\n",
    "df1 = pd.read_csv('nypd-motor-vehicle-collisions.csv')\n",
    "df2 = pd.read_csv('weather_description.csv')"
   ]
  },
  {
   "cell_type": "code",
   "execution_count": 5,
   "metadata": {},
   "outputs": [
    {
     "name": "stdout",
     "output_type": "stream",
     "text": [
      "Index(['DATE', 'TIME', 'BOROUGH', 'ZIP CODE', 'LATITUDE', 'LONGITUDE',\n",
      "       'LOCATION', 'ON STREET NAME', 'CROSS STREET NAME', 'OFF STREET NAME',\n",
      "       'NUMBER OF PERSONS INJURED', 'NUMBER OF PERSONS KILLED',\n",
      "       'NUMBER OF PEDESTRIANS INJURED', 'NUMBER OF PEDESTRIANS KILLED',\n",
      "       'NUMBER OF CYCLIST INJURED', 'NUMBER OF CYCLIST KILLED',\n",
      "       'NUMBER OF MOTORIST INJURED', 'NUMBER OF MOTORIST KILLED',\n",
      "       'CONTRIBUTING FACTOR VEHICLE 1', 'CONTRIBUTING FACTOR VEHICLE 2',\n",
      "       'CONTRIBUTING FACTOR VEHICLE 3', 'CONTRIBUTING FACTOR VEHICLE 4',\n",
      "       'CONTRIBUTING FACTOR VEHICLE 5', 'UNIQUE KEY', 'VEHICLE TYPE CODE 1',\n",
      "       'VEHICLE TYPE CODE 2', 'VEHICLE TYPE CODE 3', 'VEHICLE TYPE CODE 4',\n",
      "       'VEHICLE TYPE CODE 5'],\n",
      "      dtype='object')\n"
     ]
    }
   ],
   "source": [
    "print(df1.columns) #summarize columns"
   ]
  },
  {
   "cell_type": "code",
   "execution_count": 6,
   "metadata": {
    "scrolled": true
   },
   "outputs": [
    {
     "name": "stdout",
     "output_type": "stream",
     "text": [
      "Index(['datetime', 'Vancouver', 'Portland', 'San Francisco', 'Seattle',\n",
      "       'Los Angeles', 'San Diego', 'Las Vegas', 'Phoenix', 'Albuquerque',\n",
      "       'Denver', 'San Antonio', 'Dallas', 'Houston', 'Kansas City',\n",
      "       'Minneapolis', 'Saint Louis', 'Chicago', 'Nashville', 'Indianapolis',\n",
      "       'Atlanta', 'Detroit', 'Jacksonville', 'Charlotte', 'Miami',\n",
      "       'Pittsburgh', 'Toronto', 'Philadelphia', 'New York', 'Montreal',\n",
      "       'Boston', 'Beersheba', 'Tel Aviv District', 'Eilat', 'Haifa',\n",
      "       'Nahariyya', 'Jerusalem'],\n",
      "      dtype='object')\n"
     ]
    }
   ],
   "source": [
    "print(df2.columns)  #summarize columns"
   ]
  },
  {
   "cell_type": "code",
   "execution_count": 7,
   "metadata": {},
   "outputs": [
    {
     "name": "stdout",
     "output_type": "stream",
     "text": [
      "number of rows: 1483717, number of columns: 29\n"
     ]
    }
   ],
   "source": [
    "n1_rows, n1_columns = df1.shape  # get the shape of dataframe, .shape returns => rows and columns\n",
    "print(\"number of rows: {}, number of columns: {}\".format(n1_rows, n1_columns)) "
   ]
  },
  {
   "cell_type": "code",
   "execution_count": 8,
   "metadata": {},
   "outputs": [
    {
     "name": "stdout",
     "output_type": "stream",
     "text": [
      "number of rows: 45253, number of columns: 37\n"
     ]
    }
   ],
   "source": [
    "n2_rows, n2_columns = df2.shape  # get the shape of dataframe, .shape returns => rows and columns\n",
    "print(\"number of rows: {}, number of columns: {}\".format(n2_rows, n2_columns)) "
   ]
  },
  {
   "cell_type": "code",
   "execution_count": 9,
   "metadata": {},
   "outputs": [
    {
     "data": {
      "text/plain": [
       "DATE                              object\n",
       "TIME                              object\n",
       "BOROUGH                           object\n",
       "ZIP CODE                          object\n",
       "LATITUDE                         float64\n",
       "LONGITUDE                        float64\n",
       "LOCATION                          object\n",
       "ON STREET NAME                    object\n",
       "CROSS STREET NAME                 object\n",
       "OFF STREET NAME                   object\n",
       "NUMBER OF PERSONS INJURED        float64\n",
       "NUMBER OF PERSONS KILLED         float64\n",
       "NUMBER OF PEDESTRIANS INJURED      int64\n",
       "NUMBER OF PEDESTRIANS KILLED       int64\n",
       "NUMBER OF CYCLIST INJURED          int64\n",
       "NUMBER OF CYCLIST KILLED           int64\n",
       "NUMBER OF MOTORIST INJURED         int64\n",
       "NUMBER OF MOTORIST KILLED          int64\n",
       "CONTRIBUTING FACTOR VEHICLE 1     object\n",
       "CONTRIBUTING FACTOR VEHICLE 2     object\n",
       "CONTRIBUTING FACTOR VEHICLE 3     object\n",
       "CONTRIBUTING FACTOR VEHICLE 4     object\n",
       "CONTRIBUTING FACTOR VEHICLE 5     object\n",
       "UNIQUE KEY                         int64\n",
       "VEHICLE TYPE CODE 1               object\n",
       "VEHICLE TYPE CODE 2               object\n",
       "VEHICLE TYPE CODE 3               object\n",
       "VEHICLE TYPE CODE 4               object\n",
       "VEHICLE TYPE CODE 5               object\n",
       "dtype: object"
      ]
     },
     "execution_count": 9,
     "metadata": {},
     "output_type": "execute_result"
    }
   ],
   "source": [
    "df1.dtypes #types of columns"
   ]
  },
  {
   "cell_type": "code",
   "execution_count": 10,
   "metadata": {},
   "outputs": [
    {
     "data": {
      "text/plain": [
       "datetime             object\n",
       "Vancouver            object\n",
       "Portland             object\n",
       "San Francisco        object\n",
       "Seattle              object\n",
       "Los Angeles          object\n",
       "San Diego            object\n",
       "Las Vegas            object\n",
       "Phoenix              object\n",
       "Albuquerque          object\n",
       "Denver               object\n",
       "San Antonio          object\n",
       "Dallas               object\n",
       "Houston              object\n",
       "Kansas City          object\n",
       "Minneapolis          object\n",
       "Saint Louis          object\n",
       "Chicago              object\n",
       "Nashville            object\n",
       "Indianapolis         object\n",
       "Atlanta              object\n",
       "Detroit              object\n",
       "Jacksonville         object\n",
       "Charlotte            object\n",
       "Miami                object\n",
       "Pittsburgh           object\n",
       "Toronto              object\n",
       "Philadelphia         object\n",
       "New York             object\n",
       "Montreal             object\n",
       "Boston               object\n",
       "Beersheba            object\n",
       "Tel Aviv District    object\n",
       "Eilat                object\n",
       "Haifa                object\n",
       "Nahariyya            object\n",
       "Jerusalem            object\n",
       "dtype: object"
      ]
     },
     "execution_count": 10,
     "metadata": {},
     "output_type": "execute_result"
    }
   ],
   "source": [
    "df2.dtypes #types of columns "
   ]
  },
  {
   "cell_type": "code",
   "execution_count": 11,
   "metadata": {},
   "outputs": [],
   "source": [
    "df1[\"weather\"] = df2[\"New York\"]  #CONNECT TWO DATAFRAMES TO EACH OTHER "
   ]
  },
  {
   "cell_type": "code",
   "execution_count": 12,
   "metadata": {},
   "outputs": [],
   "source": [
    "totalDeadandInjured=[]   # to get the total number who are suffered and add them into dataframe\n",
    "sayi=0\n",
    "for i in range (0,n1_rows):\n",
    "    sayi = df1.iloc[i,10]+ df1.iloc[i,11]+df1.iloc[i,12]+df1.iloc[i,13]+df1.iloc[i,14]+df1.iloc[i,15]+df1.iloc[i,16]+df1.iloc[i,17]\n",
    "    totalDeadandInjured.append(sayi)\n",
    "df1[\"total\"] = totalDeadandInjured"
   ]
  },
  {
   "cell_type": "markdown",
   "metadata": {},
   "source": [
    "# Hypothesis Testing"
   ]
  },
  {
   "cell_type": "markdown",
   "metadata": {},
   "source": [
    "Null Hypothesis: Wheater has no effect on the collision in NYC."
   ]
  },
  {
   "cell_type": "markdown",
   "metadata": {},
   "source": [
    "Alternative Hypothesis: The number of collision decreases when sky is clear."
   ]
  },
  {
   "cell_type": "code",
   "execution_count": 13,
   "metadata": {},
   "outputs": [],
   "source": [
    "test_type = \"total\"\n",
    "\n",
    "SunnyDays = df1[df1[\"weather\"] == \"sky is clear\"][test_type]  # Sky is clear \n",
    "NonSunnyDays = df1[(df1[\"weather\"] != \"sky is clear\")&(df1[\"weather\"] != \"NaN\")][test_type]       # Sky is not clear."
   ]
  },
  {
   "cell_type": "code",
   "execution_count": 14,
   "metadata": {},
   "outputs": [
    {
     "name": "stdout",
     "output_type": "stream",
     "text": [
      "the mean of dead or injured people in sunny days0.53478\n"
     ]
    }
   ],
   "source": [
    "print(\"the mean of dead or injured people in sunny days{:.5f}\".format(SunnyDays.mean()))"
   ]
  },
  {
   "cell_type": "code",
   "execution_count": 15,
   "metadata": {},
   "outputs": [
    {
     "name": "stdout",
     "output_type": "stream",
     "text": [
      "the mean of dead or injured people in non-sunny days0.52110\n"
     ]
    }
   ],
   "source": [
    "print(\"the mean of dead or injured people in non-sunny days{:.5f}\".format(NonSunnyDays.mean()))"
   ]
  },
  {
   "cell_type": "code",
   "execution_count": 16,
   "metadata": {},
   "outputs": [
    {
     "name": "stderr",
     "output_type": "stream",
     "text": [
      "C:\\ProgramData\\Anaconda3\\lib\\site-packages\\scipy\\stats\\stats.py:1713: FutureWarning: Using a non-tuple sequence for multidimensional indexing is deprecated; use `arr[tuple(seq)]` instead of `arr[seq]`. In the future this will be interpreted as an array index, `arr[np.array(seq)]`, which will result either in an error or a different result.\n",
      "  return np.add.reduce(sorted[indexer] * weights, axis=axis) / sumval\n",
      "C:\\ProgramData\\Anaconda3\\lib\\site-packages\\statsmodels\\nonparametric\\kde.py:448: RuntimeWarning: invalid value encountered in greater\n",
      "  X = X[np.logical_and(X > clip[0], X < clip[1])] # won't work for two columns.\n",
      "C:\\ProgramData\\Anaconda3\\lib\\site-packages\\statsmodels\\nonparametric\\kde.py:448: RuntimeWarning: invalid value encountered in less\n",
      "  X = X[np.logical_and(X > clip[0], X < clip[1])] # won't work for two columns.\n"
     ]
    },
    {
     "data": {
      "image/png": "[encoded data removed]",
      "text/plain": [
       "<Figure size 1008x432 with 3 Axes>"
      ]
     },
     "metadata": {},
     "output_type": "display_data"
    }
   ],
   "source": [
    "#The plot that shows the conditions seperately\n",
    "\n",
    "\n",
    "fig, ax = plt.subplots(1, 3, figsize=(14,6))  # a figure with 1 row and 3 columns\n",
    "                                              # ax variable stores a list with 3 elements\n",
    "                                              # each element in ax correspons to chart\n",
    "        \n",
    "SunnyDays.plot(kind=\"hist\", ax=ax[0], bins=10, label=\"SunnyDays\", color=\"c\")\n",
    "ax[0].set_title(\"SunnyDays\")\n",
    "\n",
    "NonSunnyDays.plot(kind=\"hist\", ax=ax[1], bins=10, label=\"NonSunnyDays\", color=\"m\")\n",
    "ax[1].set_title(\"NonSunnyDays\")\n",
    "\n",
    "sns.kdeplot(SunnyDays, shade=True, label=\"SunnyDays\", ax=ax[2], color=\"c\")\n",
    "sns.kdeplot(NonSunnyDays, shade=True, label=\"NonSunnyDays\", ax=ax[2], color=\"m\")\n",
    "ax[2].set_title(\"Comparison\")\n",
    "\n",
    "plt.suptitle(\"Collision Distributions\")\n",
    "plt.show()"
   ]
  },
  {
   "cell_type": "code",
   "execution_count": 17,
   "metadata": {},
   "outputs": [
    {
     "data": {
      "image/png": "[encoded data removed]",
      "text/plain": [
       "<Figure size 432x288 with 1 Axes>"
      ]
     },
     "metadata": {},
     "output_type": "display_data"
    }
   ],
   "source": [
    "#The plot that shows the conditions together\n",
    "\n",
    "ax = sns.kdeplot(SunnyDays.rename(\"Sunny Days\"), shade=True)\n",
    "sns.kdeplot(NonSunnyDays.rename(\"Non-Sunny Days\"), ax=ax, shade=True)\n",
    "\n",
    "plt.xlim([-1,15])\n",
    "plt.show()"
   ]
  },
  {
   "cell_type": "code",
   "execution_count": 19,
   "metadata": {},
   "outputs": [
    {
     "data": {
      "text/plain": [
       "Ttest_indResult(statistic=1.1155570584943886, pvalue=0.264634529862284)"
      ]
     },
     "execution_count": 19,
     "metadata": {},
     "output_type": "execute_result"
    }
   ],
   "source": [
    "SunnyDays=SunnyDays.fillna(SunnyDays.mean())\n",
    "NonSunnyDays=NonSunnyDays.fillna(NonSunnyDays.mean())\n",
    "\n",
    "stats.ttest_ind(SunnyDays, NonSunnyDays, equal_var=False)  # since we have not equal variances"
   ]
  },
  {
   "cell_type": "code",
   "execution_count": null,
   "metadata": {},
   "outputs": [],
   "source": [
    "# We cannot reject the null hypothesis since the pvalue is greater than .05\n"
   ]
  },
  {
   "cell_type": "code",
   "execution_count": 21,
   "metadata": {},
   "outputs": [],
   "source": [
    "from sklearn.model_selection import train_test_split\n"
   ]
  },
  {
   "cell_type": "code",
   "execution_count": 24,
   "metadata": {},
   "outputs": [],
   "source": [
    "X = df1[['NUMBER OF PERSONS INJURED', 'NUMBER OF PEDESTRIANS INJURED','NUMBER OF CYCLIST INJURED','NUMBER OF CYCLIST KILLED','NUMBER OF MOTORIST KILLED']]\n",
    "y = df1['NUMBER OF PERSONS KILLED']\n",
    "\n",
    "X=X.fillna(X.mean())\n",
    "y=y.fillna(y.mean())\n",
    "X_train, X_test, y_train, y_test = train_test_split(X, y, test_size=0.33, random_state=42)\n",
    "\n",
    "from sklearn.linear_model import LinearRegression\n",
    "\n",
    "reg = LinearRegression().fit(X_train, y_train)\n",
    "\n"
   ]
  },
  {
   "cell_type": "code",
   "execution_count": 27,
   "metadata": {},
   "outputs": [
    {
     "data": {
      "text/plain": [
       "0.4942847736496285"
      ]
     },
     "execution_count": 27,
     "metadata": {},
     "output_type": "execute_result"
    }
   ],
   "source": [
    "reg.score(X_train, y_train)\n"
   ]
  },
  {
   "cell_type": "code",
   "execution_count": 28,
   "metadata": {},
   "outputs": [
    {
     "data": {
      "text/plain": [
       "array([ 8.27794483e-05,  1.93575255e-03, -2.90749087e-04,  1.15497060e+00,\n",
       "        1.00304002e+00])"
      ]
     },
     "execution_count": 28,
     "metadata": {},
     "output_type": "execute_result"
    }
   ],
   "source": [
    "reg.coef_\n"
   ]
  },
  {
   "cell_type": "code",
   "execution_count": 29,
   "metadata": {},
   "outputs": [
    {
     "data": {
      "text/plain": [
       "0.0005123912699832391"
      ]
     },
     "execution_count": 29,
     "metadata": {},
     "output_type": "execute_result"
    }
   ],
   "source": [
    "reg.intercept_ \n"
   ]
  },
  {
   "cell_type": "code",
   "execution_count": 30,
   "metadata": {},
   "outputs": [
    {
     "data": {
      "text/plain": [
       "array([0.00051239, 0.00051239, 0.00051239, ..., 0.00051239, 0.00051239,\n",
       "       0.00051239])"
      ]
     },
     "execution_count": 30,
     "metadata": {},
     "output_type": "execute_result"
    }
   ],
   "source": [
    "reg.predict(X_test)"
   ]
  },
  {
   "cell_type": "code",
   "execution_count": null,
   "metadata": {},
   "outputs": [],
   "source": []
  }
 ],
 "metadata": {
  "kernelspec": {
   "display_name": "Python 3",
   "language": "python",
   "name": "python3"
  },
  "language_info": {
   "codemirror_mode": {
    "name": "ipython",
    "version": 3
   },
   "file_extension": ".py",
   "mimetype": "text/x-python",
   "name": "python",
   "nbconvert_exporter": "python",
   "pygments_lexer": "ipython3",
   "version": "3.7.1"
  }
 },
 "nbformat": 4,
 "nbformat_minor": 2
}
